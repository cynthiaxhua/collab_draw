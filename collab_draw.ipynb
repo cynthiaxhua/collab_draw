{
 "cells": [
  {
   "cell_type": "markdown",
   "metadata": {},
   "source": [
    "# CNN Encoder + LSTM Decoder"
   ]
  },
  {
   "cell_type": "code",
   "execution_count": 1,
   "metadata": {},
   "outputs": [
    {
     "name": "stderr",
     "output_type": "stream",
     "text": [
      "/Users/xihua/ENV/lib/python2.7/site-packages/h5py/__init__.py:36: FutureWarning: Conversion of the second argument of issubdtype from `float` to `np.floating` is deprecated. In future, it will be treated as `np.float64 == np.dtype(float).type`.\n",
      "  from ._conv import register_converters as _register_converters\n"
     ]
    }
   ],
   "source": [
    "# import the required libraries\n",
    "import numpy as np\n",
    "import time\n",
    "import random\n",
    "import cPickle\n",
    "import codecs\n",
    "import collections\n",
    "import os\n",
    "import math\n",
    "import json\n",
    "import tensorflow as tf\n",
    "from six.moves import xrange\n",
    "#os.environ[\"CUDA_VISIBLE_DEVICES\"]=\"1\"\n",
    "from IPython.display import SVG, display\n",
    "import svgwrite # conda install -c omnia svgwrite=1.1.6\n",
    "import PIL\n",
    "from PIL import Image\n",
    "import matplotlib.pyplot as plt\n",
    "np.set_printoptions(precision=8, edgeitems=6, linewidth=200, suppress=True)\n",
    "# import our command line tools\n",
    "from sketch_rnn_train_cnn_tf import *\n",
    "from model_cnn_tf import *\n",
    "from utils_cnn import *\n",
    "from rnn import *\n",
    "from cnn_tf import *"
   ]
  },
  {
   "cell_type": "code",
   "execution_count": 2,
   "metadata": {},
   "outputs": [],
   "source": [
    "# HELPER FUNCTION\n",
    "def draw_strokes(data, color=\"black\", doGradient=False, endColor=\"black\", factor=0.2, svg_filename = 'svg/sample.svg'):\n",
    "    tf.gfile.MakeDirs(os.path.dirname(svg_filename))\n",
    "    min_x, max_x, min_y, max_y = get_bounds(data, factor)\n",
    "    dims = (50 + max_x - min_x, 50 + max_y - min_y)\n",
    "    dwg = svgwrite.Drawing(svg_filename, size=dims)\n",
    "    dwg.add(dwg.rect(insert=(0, 0), size=dims,fill='white'))\n",
    "    lift_pen = 1\n",
    "    abs_x = 25 - min_x \n",
    "    abs_y = 25 - min_y\n",
    "    p = \"M%s,%s \" % (abs_x, abs_y)\n",
    "    command = \"m\"\n",
    "    for i in xrange(len(data)):\n",
    "        if (lift_pen == 1):\n",
    "            command = \"m\"\n",
    "        elif (command != \"l\"):\n",
    "            command = \"l\"\n",
    "        else:\n",
    "            command = \"\"\n",
    "        x = float(data[i,0])/factor\n",
    "        y = float(data[i,1])/factor\n",
    "        #print(x)\n",
    "        #print(y)\n",
    "        lift_pen = data[i, 2]\n",
    "        p += command+str(x)+\",\"+str(y)+\" \"\n",
    "    np.save(\"data_tester.npy\",data)\n",
    "    the_color = color\n",
    "    stroke_width = 1\n",
    "    dwg.add(dwg.path(p).stroke(the_color,stroke_width).fill(\"none\"))\n",
    "    dwg.save()\n",
    "    display(SVG(dwg.tostring()))\n",
    "    \n",
    "# generate a 2D grid of many vector drawings\n",
    "def make_grid_svg(s_list, grid_space=10.0, grid_space_x=16.0):\n",
    "  def get_start_and_end(x):\n",
    "    x = np.array(x)\n",
    "    x = x[:, 0:2]\n",
    "    x_start = x[0]\n",
    "    x_end = x.sum(axis=0)\n",
    "    x = x.cumsum(axis=0)\n",
    "    x_max = x.max(axis=0)\n",
    "    x_min = x.min(axis=0)\n",
    "    center_loc = (x_max+x_min)*0.5\n",
    "    return x_start-center_loc, x_end\n",
    "  x_pos = 0.0\n",
    "  y_pos = 0.0\n",
    "  result = [[x_pos, y_pos, 1]]\n",
    "\n",
    "  #for each reconstruction\n",
    "  for sample in s_list:\n",
    "    s = sample[0]\n",
    "    grid_loc = sample[1]\n",
    "    grid_y = grid_loc[0]*grid_space+grid_space*0.5\n",
    "    grid_x = grid_loc[1]*grid_space_x+grid_space_x*0.5\n",
    "    start_loc, delta_pos = get_start_and_end(s)\n",
    "\n",
    "    loc_x = start_loc[0]\n",
    "    loc_y = start_loc[1]\n",
    "    new_x_pos = grid_x+loc_x\n",
    "    new_y_pos = grid_y+loc_y\n",
    "    result.append([new_x_pos-x_pos, new_y_pos-y_pos, 0])\n",
    "\n",
    "    result += s.tolist()\n",
    "    result[-1][2] = 1\n",
    "    x_pos = new_x_pos+delta_pos[0]\n",
    "    y_pos = new_y_pos+delta_pos[1]\n",
    "  return np.array(result)\n",
    "\n",
    "def encode(input_strokes):\n",
    "  strokes = to_big_strokes(input_strokes).tolist()\n",
    "  strokes.insert(0, [0, 0, 1, 0, 0])\n",
    "  seq_len = [len(input_strokes)]\n",
    "  print(seq_len)\n",
    "  draw_strokes(to_normal_strokes(np.array(strokes)))\n",
    "  return sess.run(eval_model.batch_z, feed_dict={eval_model.input_data: [strokes], eval_model.sequence_lengths: seq_len})[0]\n",
    "\n",
    "def encode_cnn(input_ims):\n",
    "  return sess.run(eval_model.batch_z, feed_dict={eval_model.input_ims: [input_ims]})[0]\n",
    "\n",
    "#latent vector to stroke\n",
    "def decode(z_input=None, draw_mode=True, temperature=0.1, factor=0.2):\n",
    "  z = None\n",
    "  if z_input is not None:\n",
    "    z = [z_input]\n",
    "  sample_strokes, m, _, _ = sample(sess, sample_model, seq_len=eval_model.hps.max_seq_len, temperature=temperature, z=z)\n",
    "  strokes = to_normal_strokes(sample_strokes)\n",
    "  if draw_mode:\n",
    "    draw_strokes(strokes, factor=factor)\n",
    "  return strokes"
   ]
  },
  {
   "cell_type": "markdown",
   "metadata": {},
   "source": [
    "## Load Model"
   ]
  },
  {
   "cell_type": "code",
   "execution_count": 3,
   "metadata": {},
   "outputs": [
    {
     "name": "stdout",
     "output_type": "stream",
     "text": [
      "INFO:tensorflow:Model using gpu.\n",
      "INFO:tensorflow:Input dropout mode = False.\n",
      "INFO:tensorflow:Output dropout mode = False.\n",
      "INFO:tensorflow:Recurrent dropout mode = True.\n",
      "INFO:tensorflow:Model using gpu.\n",
      "INFO:tensorflow:Input dropout mode = 0.\n",
      "INFO:tensorflow:Output dropout mode = 0.\n",
      "INFO:tensorflow:Recurrent dropout mode = 0.\n",
      "INFO:tensorflow:Model using gpu.\n",
      "INFO:tensorflow:Input dropout mode = 0.\n",
      "INFO:tensorflow:Output dropout mode = 0.\n",
      "INFO:tensorflow:Recurrent dropout mode = 0.\n",
      "INFO:tensorflow:Loading model gen/vector-70000.\n",
      "INFO:tensorflow:Restoring parameters from gen/vector-70000\n"
     ]
    }
   ],
   "source": [
    "model_dir = 'gen/'\n",
    "[hps_model, eval_hps_model, sample_hps_model] = load_model(model_dir)\n",
    "# construct the sketch-rnn model here:\n",
    "reset_graph()\n",
    "model = Model(hps_model)\n",
    "eval_model = Model(eval_hps_model, reuse=True)\n",
    "sample_model = Model(sample_hps_model, reuse=True)\n",
    "sess = tf.InteractiveSession()\n",
    "sess.run(tf.global_variables_initializer())\n",
    "# loads the weights from checkpoint into our model\n",
    "load_checkpoint(sess, model_dir)"
   ]
  },
  {
   "cell_type": "code",
   "execution_count": 4,
   "metadata": {},
   "outputs": [
    {
     "name": "stdout",
     "output_type": "stream",
     "text": [
      "INFO:tensorflow:Loaded 45000/2500/2500 from ear_cnn.npz\n",
      "INFO:tensorflow:Loaded 45000/2500/2500 from eye_cnn.npz\n",
      "INFO:tensorflow:Loaded 45000/2500/2500 from mouth_cnn.npz\n",
      "INFO:tensorflow:Loaded 45000/2500/2500 from nose_cnn.npz\n",
      "INFO:tensorflow:Dataset combined: 200000 (180000/10000/10000), avg len 36\n",
      "INFO:tensorflow:model_params.max_seq_len 125.\n",
      "total images <= max_seq_len is 180000\n",
      "total images <= max_seq_len is 10000\n",
      "total images <= max_seq_len is 10000\n",
      "INFO:tensorflow:normalizing_scale_factor 45.8366.\n",
      "INFO:tensorflow:Loaded 45000/2500/2500 from ear_cnn.npy\n",
      "INFO:tensorflow:Loaded 45000/2500/2500 from eye_cnn.npy\n",
      "INFO:tensorflow:Loaded 45000/2500/2500 from mouth_cnn.npy\n",
      "INFO:tensorflow:Loaded 45000/2500/2500 from nose_cnn.npy\n"
     ]
    }
   ],
   "source": [
    "# load datasets\n",
    "data_dir = 'datasets/'\n",
    "[train_set, valid_set, test_set, hps_model, eval_hps_model, sample_hps_model] = load_env(data_dir, model_dir)\n",
    "[train_ims, valid_ims, test_ims] = load_env_ims(data_dir, model_dir)"
   ]
  },
  {
   "cell_type": "code",
   "execution_count": 89,
   "metadata": {},
   "outputs": [
    {
     "data": {
      "image/svg+xml": [
       "<svg baseProfile=\"full\" height=\"66.5604257956\" version=\"1.1\" width=\"79.5615135878\" xmlns=\"http://www.w3.org/2000/svg\" xmlns:ev=\"http://www.w3.org/2001/xml-events\" xmlns:xlink=\"http://www.w3.org/1999/xlink\"><defs/><rect fill=\"white\" height=\"66.5604257956\" width=\"79.5615135878\" x=\"0\" y=\"0\"/><path d=\"M28.4653072432,25 m10.2660286427,1.84873074293 l5.43458580971,0.781649425626 3.83232146502,-0.311429575086 l6.03312194347,-2.13737875223 0.530148483813,1.42961487174 l-2.79969364405,4.67660456896 -4.81089413166,5.42004942894 l-4.48848634958,3.25878083706 -2.9997548461,1.25267460942 l-3.52174252272,0.341129638255 -3.27320963144,-3.1994882226 l-4.23064023256,-6.97386324406 -2.19984710217,-3.08559268713 l-1.23724512756,-0.0889186747372 m6.68915629387,1.08740143478 l1.66198790073,1.67710140347 2.02638313174,1.25127598643 \" fill=\"none\" stroke=\"black\" stroke-width=\"1\"/></svg>"
      ],
      "text/plain": [
       "<IPython.core.display.SVG object>"
      ]
     },
     "metadata": {},
     "output_type": "display_data"
    },
    {
     "name": "stdout",
     "output_type": "stream",
     "text": [
      "17\n"
     ]
    },
    {
     "data": {
      "image/svg+xml": [
       "<svg baseProfile=\"full\" height=\"66.5604257956\" version=\"1.1\" width=\"79.5615135878\" xmlns=\"http://www.w3.org/2000/svg\" xmlns:ev=\"http://www.w3.org/2001/xml-events\" xmlns:xlink=\"http://www.w3.org/1999/xlink\"><defs/><rect fill=\"white\" height=\"66.5604257956\" width=\"79.5615135878\" x=\"0\" y=\"0\"/><path d=\"M28.4653072432,25 m10.2660286427,1.84873074293 l5.43458580971,0.781649425626 3.83232146502,-0.311429575086 l6.03312194347,-2.13737875223 0.530148483813,1.42961487174 l-2.79969364405,4.67660456896 -4.81089413166,5.42004942894 l-4.48848634958,3.25878083706 -2.9997548461,1.25267460942 l-3.52174252272,0.341129638255 -3.27320963144,-3.1994882226 l-4.23064023256,-6.97386324406 -2.19984710217,-3.08559268713 l-1.23724512756,-0.0889186747372 m6.68915629387,1.08740143478 l1.66198790073,1.67710140347 2.02638313174,1.25127598643 \" fill=\"none\" stroke=\"black\" stroke-width=\"1\"/></svg>"
      ],
      "text/plain": [
       "<IPython.core.display.SVG object>"
      ]
     },
     "metadata": {},
     "output_type": "display_data"
    },
    {
     "name": "stdout",
     "output_type": "stream",
     "text": [
      "2\n"
     ]
    },
    {
     "data": {
      "image/svg+xml": [
       "<svg baseProfile=\"full\" height=\"66.5604257956\" version=\"1.1\" width=\"79.5615135878\" xmlns=\"http://www.w3.org/2000/svg\" xmlns:ev=\"http://www.w3.org/2001/xml-events\" xmlns:xlink=\"http://www.w3.org/1999/xlink\"><defs/><rect fill=\"white\" height=\"66.5604257956\" width=\"79.5615135878\" x=\"0\" y=\"0\"/><path d=\"M28.4653072432,25 m10.2660286427,1.84873074293 l5.43458580971,0.781649425626 3.83232146502,-0.311429575086 l6.03312194347,-2.13737875223 0.530148483813,1.42961487174 l-2.79969364405,4.67660456896 -4.81089413166,5.42004942894 l-4.48848634958,3.25878083706 -2.9997548461,1.25267460942 l-3.52174252272,0.341129638255 -3.27320963144,-3.1994882226 l-4.23064023256,-6.97386324406 -2.19984710217,-3.08559268713 l-1.23724512756,-0.0889186747372 m6.68915629387,1.08740143478 l1.66198790073,1.67710140347 2.02638313174,1.25127598643 \" fill=\"none\" stroke=\"black\" stroke-width=\"1\"/></svg>"
      ],
      "text/plain": [
       "<IPython.core.display.SVG object>"
      ]
     },
     "metadata": {},
     "output_type": "display_data"
    },
    {
     "data": {
      "image/svg+xml": [
       "<svg baseProfile=\"full\" height=\"66.5604257956\" version=\"1.1\" width=\"79.5615135878\" xmlns=\"http://www.w3.org/2000/svg\" xmlns:ev=\"http://www.w3.org/2001/xml-events\" xmlns:xlink=\"http://www.w3.org/1999/xlink\"><defs/><rect fill=\"white\" height=\"66.5604257956\" width=\"79.5615135878\" x=\"0\" y=\"0\"/><path d=\"M28.4653072432,25 m10.2660286427,1.84873074293 l5.43458580971,0.781649425626 3.83232146502,-0.311429575086 l6.03312194347,-2.13737875223 0.530148483813,1.42961487174 l-2.79969364405,4.67660456896 -4.81089413166,5.42004942894 l-4.48848634958,3.25878083706 -2.9997548461,1.25267460942 l-3.52174252272,0.341129638255 -3.27320963144,-3.1994882226 l-4.23064023256,-6.97386324406 -2.19984710217,-3.08559268713 l-1.23724512756,-0.0889186747372 \" fill=\"none\" stroke=\"black\" stroke-width=\"1\"/></svg>"
      ],
      "text/plain": [
       "<IPython.core.display.SVG object>"
      ]
     },
     "metadata": {},
     "output_type": "display_data"
    }
   ],
   "source": [
    "#Random Sample\n",
    "flag = 0\n",
    "num_strokes = 0\n",
    "while flag == 0:\n",
    "    z = np.random.randn(eval_model.hps.z_size)\n",
    "    z_strokes = decode(z)\n",
    "    stroke_col = z_strokes[:,2]\n",
    "    num_points = len(stroke_col)\n",
    "    print num_points\n",
    "    num_strokes = np.count_nonzero(stroke_col)\n",
    "    draw_strokes(z_strokes)\n",
    "    #0 strokes means it didn't generate a complete drawing\n",
    "    #125 points means it hit the max bound on generation - meaning we should stop it\n",
    "    if num_strokes >= 1 and num_points >= 5 and num_points < 125:\n",
    "        flag = 1\n",
    "    print num_strokes\n",
    "    \n",
    "stroke_ends = np.nonzero(stroke_col)[0]\n",
    "\n",
    "#DRAW SUBSET\n",
    "#if fewer than 3 strokes, draw whole thing, if fewer than 6 strokes, draw 3, if more than 6 strokes, draw half\n",
    "strokes_to_draw = min(max(3,num_strokes / 2),num_strokes)\n",
    "end = stroke_ends[strokes_to_draw - 1] + 1\n",
    "z_mod = z_strokes[:end,:]\n",
    "draw_strokes(z_mod)\n",
    "\n",
    "#DRAW FIRST STROKE\n",
    "first_stroke_end = stroke_ends[0] + 1\n",
    "z_mod = z_strokes[:first_stroke_end,:]\n",
    "draw_strokes(z_mod)"
   ]
  },
  {
   "cell_type": "code",
   "execution_count": null,
   "metadata": {},
   "outputs": [],
   "source": []
  },
  {
   "cell_type": "code",
   "execution_count": null,
   "metadata": {},
   "outputs": [],
   "source": []
  }
 ],
 "metadata": {
  "kernelspec": {
   "display_name": "Python 2",
   "language": "python",
   "name": "python2"
  },
  "language_info": {
   "codemirror_mode": {
    "name": "ipython",
    "version": 2
   },
   "file_extension": ".py",
   "mimetype": "text/x-python",
   "name": "python",
   "nbconvert_exporter": "python",
   "pygments_lexer": "ipython2",
   "version": "2.7.10"
  }
 },
 "nbformat": 4,
 "nbformat_minor": 1
}
